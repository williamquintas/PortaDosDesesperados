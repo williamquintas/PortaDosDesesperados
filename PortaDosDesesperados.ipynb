{
 "cells": [
  {
   "cell_type": "code",
   "execution_count": 1,
   "metadata": {},
   "outputs": [],
   "source": [
    "import random\n",
    "# Declaring variables\n",
    "doors = [\"A\", \"B\", \"C\"]\n",
    "resultWhenExchange = []\n",
    "resultWhenNotExchange = []\n",
    "timesToRun = 1000000"
   ]
  },
  {
   "cell_type": "code",
   "execution_count": 2,
   "metadata": {},
   "outputs": [],
   "source": [
    "for x in range(0, timesToRun):\n",
    "    #gets random doors for reward and chosen by participant in doors list\n",
    "    rewardDoor = random.choice(doors)\n",
    "    chosenDoor = random.choice(doors)\n",
    "    #gets the index of the free one\n",
    "    indexChosenDoor = doors.index(chosenDoor)\n",
    "    indexRewardDoor = doors.index(rewardDoor)\n",
    "    #gets possibles doors to open\n",
    "    emptyDoors = [a for i,a in enumerate(doors) if (i!=indexChosenDoor and i!=indexRewardDoor)]\n",
    "    #gets one door as showed by the presenter\n",
    "    presenterShowed = random.choice(emptyDoors)\n",
    "    indexPresenterShowed = doors.index(presenterShowed)\n",
    "    #gets the door that the player can change to\n",
    "    lastDoor = [a for i,a in enumerate(doors) if (i!=indexChosenDoor and i!=indexPresenterShowed)]\n",
    "    lastDoor = random.choice(lastDoor)\n",
    "    #checks if the participant would win if not exchange the door\n",
    "    if(chosenDoor == rewardDoor):\n",
    "        resultWhenNotExchange.append(\"won\")\n",
    "    else:\n",
    "        resultWhenNotExchange.append(\"lost\")\n",
    "    #checks if the participant would win if exchange the door\n",
    "    if(lastDoor == rewardDoor):\n",
    "        resultWhenExchange.append(\"won\")\n",
    "    else:\n",
    "        resultWhenExchange.append(\"lost\")"
   ]
  },
  {
   "cell_type": "code",
   "execution_count": 3,
   "metadata": {},
   "outputs": [
    {
     "name": "stdout",
     "output_type": "stream",
     "text": [
      "333452 666548\n",
      "0.333452 0.666548\n"
     ]
    }
   ],
   "source": [
    "#count times that won when exchanged and not exhanged the door\n",
    "wonWhenNotExchange = resultWhenNotExchange.count(\"won\")\n",
    "wonWhenExchange = resultWhenExchange.count(\"won\")\n",
    "print(wonWhenNotExchange, wonWhenExchange)\n",
    "print(wonWhenNotExchange/timesToRun, wonWhenExchange/timesToRun)"
   ]
  },
  {
   "cell_type": "code",
   "execution_count": null,
   "metadata": {},
   "outputs": [],
   "source": []
  }
 ],
 "metadata": {
  "kernelspec": {
   "display_name": "Python 3",
   "language": "python",
   "name": "python3"
  },
  "language_info": {
   "codemirror_mode": {
    "name": "ipython",
    "version": 3
   },
   "file_extension": ".py",
   "mimetype": "text/x-python",
   "name": "python",
   "nbconvert_exporter": "python",
   "pygments_lexer": "ipython3",
   "version": "3.7.1"
  }
 },
 "nbformat": 4,
 "nbformat_minor": 2
}
